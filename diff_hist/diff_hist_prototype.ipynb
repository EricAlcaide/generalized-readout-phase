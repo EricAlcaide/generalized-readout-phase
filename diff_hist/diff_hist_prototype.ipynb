{
 "cells": [
  {
   "cell_type": "code",
   "execution_count": 1,
   "metadata": {},
   "outputs": [],
   "source": [
    "import torch\n",
    "import torch.nn as nn\n",
    "import numpy as np\n",
    "import matplotlib.pyplot as plt"
   ]
  },
  {
   "cell_type": "code",
   "execution_count": 2,
   "metadata": {},
   "outputs": [],
   "source": [
    "device=\"cpu\""
   ]
  },
  {
   "cell_type": "code",
   "execution_count": 3,
   "metadata": {},
   "outputs": [],
   "source": [
    "class Diff_Hist(nn.Module):\n",
    "    def __init__(self, centers=[-5, -2.5, 0, 2.5, 5], scale=2):\n",
    "        super(Diff_Hist, self).__init__()\n",
    "        \"\"\" centers: center of the bins used. \n",
    "            scale  : exponential scale for sigmoid. the higher,\n",
    "                the lower the amplitud of the bins.\n",
    "        \"\"\"\n",
    "        # save params\n",
    "        self.scale        = scale\n",
    "        self.true_centers = centers\n",
    "        self.max_scaler   = 1\n",
    "        self.max_scaler   = torch.max(self.func(torch.arange(start=-1, end=1, step=1e-3)))\n",
    "        # our function is centered @ 0.5 by default\n",
    "        self.centers      = 0.5 + np.array(self.true_centers)\n",
    "\n",
    "    def forward(self, x, batch=None, bsize=None):\n",
    "        r\"\"\" reduces dim=0 as a set of bins. designed for 2d outs. \"\"\"\n",
    "        out = torch.zeros(len(self.centers), *x.shape[1:], device=device)\n",
    "        for i, center in enumerate(self.centers):\n",
    "            out[i]  = self.make_bin(x, center)\n",
    "        return out / x.shape[0]\n",
    "\n",
    "    def make_bin(self, x, center):\n",
    "        return self.func(x+center).sum(dim=0, keepdim=True)\n",
    "        \n",
    "    def func(self, x):\n",
    "        # augmenting sigmoid so higher gradient and localized feats\n",
    "        sigmoid_x = lambda y: 1/(1+torch.exp(-self.scale*y))\n",
    "        # perfrom minmax scaling so max is 1 and min (is already) 0\n",
    "        return (sigmoid_x(x)-sigmoid_x(x-1))/self.max_scaler\n",
    "\n",
    "    def __repr__(self):\n",
    "        return \"Simple differentiable histogram layer:\" + \\\n",
    "               str({\"centers\"   : self.true_centers,\n",
    "                    \"exp_scale\" : self.scale})"
   ]
  },
  {
   "cell_type": "code",
   "execution_count": 4,
   "metadata": {},
   "outputs": [],
   "source": [
    "class Readout_Hist(nn.Module):\n",
    "    def __init__(self, centers):\n",
    "        super(Readout_Hist, self).__init__()\n",
    "        # save centers\n",
    "        self.true_centers = centers\n",
    "        self.diff_hist    = Diff_Hist(centers=centers)\n",
    "\n",
    "    def forward(self, x, batch=None, bsize=None, dim=0):\n",
    "        r\"\"\" reduces dim=0 as a set of bins. designed for 2d outs. \"\"\"\n",
    "        bsize = bsize if bsize is not None else int(torch.max(batch).cpu().numpy())+1\n",
    "        out   = torch.empty(bsize, len(self.true_centers), *x.shape[1:], device=device)\n",
    "        # for all unique nodes\n",
    "        for n in range(bsize):\n",
    "            # create a multi-center hist for their feats\n",
    "            out[n]  = self.diff_hist(x[batch==n])\n",
    "        return out.reshape(out.shape[0], -1)\n",
    "\n",
    "    def __repr__(self):\n",
    "        return \"Readout by histogram:\" + str({\"centers\": self.true_centers})"
   ]
  },
  {
   "cell_type": "code",
   "execution_count": 5,
   "metadata": {},
   "outputs": [],
   "source": [
    "offset, n = 2, 5\n",
    "centers = list(range(-offset*n, offset*n+1))\n",
    "hister  = Diff_Hist(centers=centers)#[-8,-6,-4,-2,0,2,4,6,8])"
   ]
  },
  {
   "cell_type": "code",
   "execution_count": 6,
   "metadata": {},
   "outputs": [
    {
     "data": {
      "text/plain": [
       "(tensor([[9.0638e-08, 7.3836e-08, 5.7620e-08, 7.7909e-08, 7.2542e-08],\n",
       "         [6.6972e-07, 5.4558e-07, 4.2576e-07, 5.7567e-07, 5.3601e-07],\n",
       "         [4.9485e-06, 4.0312e-06, 3.1459e-06, 4.2536e-06, 3.9604e-06],\n",
       "         [3.6555e-05, 2.9782e-05, 2.3241e-05, 3.1427e-05, 2.9254e-05],\n",
       "         [2.6959e-04, 2.1980e-04, 1.7153e-04, 2.3202e-04, 2.1563e-04],\n",
       "         [1.9647e-03, 1.6099e-03, 1.2567e-03, 1.7040e-03, 1.5654e-03],\n",
       "         [1.3262e-02, 1.1199e-02, 8.7658e-03, 1.2061e-02, 1.0324e-02],\n",
       "         [6.6803e-02, 6.1105e-02, 4.9494e-02, 6.9827e-02, 4.9306e-02],\n",
       "         [2.2094e-01, 2.1431e-01, 1.9192e-01, 2.4261e-01, 1.8085e-01],\n",
       "         [5.0562e-01, 4.5883e-01, 4.6162e-01, 4.9892e-01, 4.7481e-01],\n",
       "         [6.3941e-01, 5.8921e-01, 6.5953e-01, 6.1954e-01, 6.5723e-01],\n",
       "         [4.4632e-01, 4.8565e-01, 5.0412e-01, 4.5916e-01, 4.9883e-01],\n",
       "         [1.9485e-01, 2.3998e-01, 2.2169e-01, 2.0439e-01, 2.2193e-01],\n",
       "         [5.9244e-02, 8.0523e-02, 5.5151e-02, 4.7137e-02, 5.7686e-02],\n",
       "         [1.2934e-02, 1.8067e-02, 8.7910e-03, 7.1904e-03, 9.6051e-03],\n",
       "         [1.9830e-03, 2.7775e-03, 1.2215e-03, 9.9088e-04, 1.3481e-03],\n",
       "         [2.7366e-04, 3.8337e-04, 1.6592e-04, 1.3444e-04, 1.8339e-04],\n",
       "         [3.7129e-05, 5.2020e-05, 2.2481e-05, 1.8188e-05, 2.4858e-05],\n",
       "         [5.0466e-06, 7.0569e-06, 3.0481e-06, 2.4699e-06, 3.3772e-06],\n",
       "         [6.6715e-07, 9.5180e-07, 4.0622e-07, 3.3209e-07, 4.3290e-07],\n",
       "         [8.8953e-08, 1.2157e-07, 5.6337e-08, 4.4476e-08, 5.9302e-08]]),\n",
       " Simple differentiable histogram layer:{'centers': [-10, -9, -8, -7, -6, -5, -4, -3, -2, -1, 0, 1, 2, 3, 4, 5, 6, 7, 8, 9, 10], 'exp_scale': 2})"
      ]
     },
     "execution_count": 6,
     "metadata": {},
     "output_type": "execute_result"
    },
    {
     "data": {
      "image/png": "[encoded data removed]",
      "text/plain": [
       "<Figure size 432x288 with 1 Axes>"
      ]
     },
     "metadata": {
      "needs_background": "light"
     },
     "output_type": "display_data"
    }
   ],
   "source": [
    "inputs = torch.randn(87,5)\n",
    "# plot and print()\n",
    "plt.plot(hister(inputs)[:, 0].flatten(), \"o-\")\n",
    "hister(inputs), hister\n"
   ]
  },
  {
   "cell_type": "code",
   "execution_count": 7,
   "metadata": {},
   "outputs": [
    {
     "name": "stdout",
     "output_type": "stream",
     "text": [
      "15 ms ± 216 µs per loop (mean ± std. dev. of 7 runs, 100 loops each)\n"
     ]
    }
   ],
   "source": [
    "%%timeit\n",
    "# timing - only the histogram, not the readout\n",
    "for i in range(10):\n",
    "    histed = hister(inputs)"
   ]
  },
  {
   "cell_type": "code",
   "execution_count": null,
   "metadata": {},
   "outputs": [],
   "source": []
  }
 ],
 "metadata": {
  "kernelspec": {
   "display_name": "assistant",
   "language": "python",
   "name": "assistant"
  },
  "language_info": {
   "codemirror_mode": {
    "name": "ipython",
    "version": 3
   },
   "file_extension": ".py",
   "mimetype": "text/x-python",
   "name": "python",
   "nbconvert_exporter": "python",
   "pygments_lexer": "ipython3",
   "version": "3.7.3"
  }
 },
 "nbformat": 4,
 "nbformat_minor": 4
}
