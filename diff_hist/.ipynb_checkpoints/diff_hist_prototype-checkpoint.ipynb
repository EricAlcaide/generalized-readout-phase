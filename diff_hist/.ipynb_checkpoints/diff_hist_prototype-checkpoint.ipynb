{
 "cells": [
  {
   "cell_type": "code",
   "execution_count": 1,
   "metadata": {},
   "outputs": [],
   "source": [
    "import torch\n",
    "import torch.nn as nn\n",
    "import numpy as np\n",
    "import matplotlib.pyplot as plt"
   ]
  },
  {
   "cell_type": "code",
   "execution_count": 6,
   "metadata": {},
   "outputs": [],
   "source": [
    "device=\"cpu\""
   ]
  },
  {
   "cell_type": "code",
   "execution_count": 7,
   "metadata": {},
   "outputs": [],
   "source": [
    "class Diff_Hist(nn.Module):\n",
    "    def __init__(self, centers=[-5, -2.5, 0, 2.5, 5], scale=2):\n",
    "        super(Diff_Hist, self).__init__()\n",
    "        \"\"\" centers: center of the bins used. \n",
    "            scale  : exponential scale for sigmoid. the higher,\n",
    "                the lower the amplitud of the bins.\n",
    "        \"\"\"\n",
    "        # save params\n",
    "        self.scale        = scale\n",
    "        self.true_centers = centers\n",
    "        self.max_scaler   = 1\n",
    "        self.max_scaler   = torch.max(self.func(torch.arange(start=-1, end=1, step=1e-3)))\n",
    "        # our function is centered @ 0.5 by default\n",
    "        self.centers      = 0.5 + np.array(self.true_centers)\n",
    "\n",
    "    def forward(self, x, batch=None, bsize=None):\n",
    "        r\"\"\" reduces dim=0 as a set of bins. designed for 2d outs. \"\"\"\n",
    "        out = torch.zeros(len(self.centers), *x.shape[1:], device=device)\n",
    "        for i, center in enumerate(self.centers):\n",
    "            out[i]  = self.make_bin(x, center)\n",
    "        return out / x.shape[0]\n",
    "\n",
    "    def make_bin(self, x, center):\n",
    "        return self.func(x+center).sum(dim=0, keepdim=True)\n",
    "        \n",
    "    def func(self, x):\n",
    "        # augmenting sigmoid so higher gradient and localized feats\n",
    "        sigmoid_x = lambda y: 1/(1+torch.exp(-self.scale*y))\n",
    "        # perfrom minmax scaling so max is 1 and min (is already) 0\n",
    "        return (sigmoid_x(x)-sigmoid_x(x-1))/self.max_scaler\n",
    "\n",
    "    def __repr__(self):\n",
    "        return \"Simple differentiable histogram layer:\" + \\\n",
    "               str({\"centers\"   : self.true_centers,\n",
    "                    \"exp_scale\" : self.scale})"
   ]
  },
  {
   "cell_type": "code",
   "execution_count": 8,
   "metadata": {},
   "outputs": [],
   "source": [
    "class Readout_Hist(nn.Module):\n",
    "    def __init__(self, centers):\n",
    "        super(Readout_Hist, self).__init__()\n",
    "        # save centers\n",
    "        self.true_centers = centers\n",
    "        self.diff_hist    = Diff_Hist(centers=centers)\n",
    "\n",
    "    def forward(self, x, batch=None, bsize=None, dim=0):\n",
    "        r\"\"\" reduces dim=0 as a set of bins. designed for 2d outs. \"\"\"\n",
    "        bsize = bsize if bsize is not None else int(torch.max(batch).cpu().numpy())+1\n",
    "        out   = torch.empty(bsize, len(self.true_centers), *x.shape[1:], device=device)\n",
    "        # for all unique nodes\n",
    "        for n in range(bsize):\n",
    "            # create a multi-center hist for their feats\n",
    "            out[n]  = self.diff_hist(x[batch==n])\n",
    "        return out.reshape(out.shape[0], -1)\n",
    "\n",
    "    def __repr__(self):\n",
    "        return \"Readout by histogram:\" + str({\"centers\": self.true_centers})"
   ]
  },
  {
   "cell_type": "code",
   "execution_count": 9,
   "metadata": {},
   "outputs": [],
   "source": [
    "offset, n = 2, 5\n",
    "centers = list(range(-offset*n, offset*n+1))\n",
    "hister  = Diff_Hist(centers=centers)#[-8,-6,-4,-2,0,2,4,6,8])"
   ]
  },
  {
   "cell_type": "code",
   "execution_count": 10,
   "metadata": {},
   "outputs": [
    {
     "data": {
      "text/plain": [
       "(tensor([[7.2696e-08, 3.5830e-08, 5.0128e-08, 4.8843e-08, 1.6225e-07],\n",
       "         [5.3715e-07, 2.6475e-07, 3.7040e-07, 3.6091e-07, 1.1989e-06],\n",
       "         [3.9689e-06, 1.9563e-06, 2.7369e-06, 2.6667e-06, 8.8579e-06],\n",
       "         [2.9320e-05, 1.4454e-05, 2.0222e-05, 1.9703e-05, 6.5414e-05],\n",
       "         [2.1631e-04, 1.0675e-04, 1.4935e-04, 1.4549e-04, 4.8130e-04],\n",
       "         [1.5803e-03, 7.8602e-04, 1.1001e-03, 1.0697e-03, 3.4493e-03],\n",
       "         [1.0803e-02, 5.6641e-03, 7.9454e-03, 7.6362e-03, 2.1092e-02],\n",
       "         [5.4540e-02, 3.6012e-02, 5.0874e-02, 4.6585e-02, 8.0757e-02],\n",
       "         [1.7778e-01, 1.5765e-01, 2.1555e-01, 1.9267e-01, 2.3389e-01],\n",
       "         [4.4865e-01, 4.2955e-01, 4.8807e-01, 4.8527e-01, 4.9051e-01],\n",
       "         [6.4583e-01, 6.7463e-01, 6.0071e-01, 6.8748e-01, 5.8274e-01],\n",
       "         [5.2805e-01, 5.3142e-01, 4.7618e-01, 4.8561e-01, 4.3901e-01],\n",
       "         [2.3218e-01, 2.2361e-01, 2.4095e-01, 1.8661e-01, 2.1510e-01],\n",
       "         [5.4281e-02, 8.0699e-02, 6.8268e-02, 5.4888e-02, 7.5650e-02],\n",
       "         [8.6282e-03, 2.0087e-02, 1.2123e-02, 1.3382e-02, 1.7879e-02],\n",
       "         [1.2013e-03, 3.2102e-03, 1.7329e-03, 2.2250e-03, 2.8634e-03],\n",
       "         [1.6323e-04, 4.4615e-04, 2.3640e-04, 3.1194e-04, 3.9859e-04],\n",
       "         [2.2127e-05, 6.0617e-05, 3.2045e-05, 4.2445e-05, 5.4166e-05],\n",
       "         [2.9859e-06, 8.2044e-06, 4.3261e-06, 5.7464e-06, 7.3297e-06],\n",
       "         [4.1215e-07, 1.1238e-06, 5.9598e-07, 7.8872e-07, 1.0022e-06],\n",
       "         [4.4476e-08, 1.3046e-07, 7.4127e-08, 9.4883e-08, 1.2453e-07]]),\n",
       " Simple differentiable histogram layer:{'centers': [-10, -9, -8, -7, -6, -5, -4, -3, -2, -1, 0, 1, 2, 3, 4, 5, 6, 7, 8, 9, 10], 'exp_scale': 2})"
      ]
     },
     "execution_count": 10,
     "metadata": {},
     "output_type": "execute_result"
    },
    {
     "data": {
      "image/png": "[encoded data removed]",
      "text/plain": [
       "<Figure size 432x288 with 1 Axes>"
      ]
     },
     "metadata": {
      "needs_background": "light"
     },
     "output_type": "display_data"
    }
   ],
   "source": [
    "inputs = torch.randn(87,5)\n",
    "# plot and print()\n",
    "plt.plot(hister(inputs)[:, 0].flatten(), \"o-\")\n",
    "hister(inputs), hister\n"
   ]
  },
  {
   "cell_type": "code",
   "execution_count": null,
   "metadata": {},
   "outputs": [],
   "source": []
  }
 ],
 "metadata": {
  "kernelspec": {
   "display_name": "assistant",
   "language": "python",
   "name": "assistant"
  },
  "language_info": {
   "codemirror_mode": {
    "name": "ipython",
    "version": 3
   },
   "file_extension": ".py",
   "mimetype": "text/x-python",
   "name": "python",
   "nbconvert_exporter": "python",
   "pygments_lexer": "ipython3",
   "version": "3.7.3"
  }
 },
 "nbformat": 4,
 "nbformat_minor": 4
}
