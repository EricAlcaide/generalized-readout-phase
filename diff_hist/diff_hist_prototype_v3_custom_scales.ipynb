{
 "cells": [
  {
   "cell_type": "code",
   "execution_count": 1,
   "metadata": {},
   "outputs": [],
   "source": [
    "\"\"\" Main improvements:\n",
    "    * include 2 bins at extremes to differentiate between them\n",
    "        (all 0s become identical ay extremes and no gradient)\n",
    "    * use torch scatter and less ops in readout.\n",
    "\"\"\";"
   ]
  },
  {
   "cell_type": "code",
   "execution_count": 2,
   "metadata": {},
   "outputs": [],
   "source": [
    "import torch\n",
    "import torch.nn as nn\n",
    "from torch_scatter import scatter\n",
    "import numpy as np\n",
    "import matplotlib.pyplot as plt\n",
    "# partial scatter func\n",
    "from functools import partial"
   ]
  },
  {
   "cell_type": "code",
   "execution_count": 19,
   "metadata": {},
   "outputs": [],
   "source": [
    "device=\"cpu\""
   ]
  },
  {
   "cell_type": "code",
   "execution_count": 24,
   "metadata": {},
   "outputs": [],
   "source": [
    "class Diff_Hist(nn.Module):\n",
    "    def __init__(self, centers={-10: 0.5, -5: 0.5, 0: 0.5, 5: 0.5, 10: 0.5}):\n",
    "        super(Diff_Hist, self).__init__()\n",
    "        \"\"\" centers: dict of center:scale\n",
    "        \"\"\"\n",
    "        # save params\n",
    "        self.true_centers = sorted(list(centers.keys()))\n",
    "        self.scales       = list(centers.values())\n",
    "        \n",
    "        # augmenting sigmoid so higher gradient and localized feats\n",
    "        self.max_scaler   = [1 for c in self.scales]\n",
    "        self.sigmoid_x    = lambda y, scaler: 1/(1+torch.exp(-scaler*y))\n",
    "        self.max_scaler   = [torch.max(self.func(torch.arange(start=-10, end=10, step=1e-3), scale, 1))\n",
    "                             for scale in self.scales]\n",
    "        self.sigmoid_x    = lambda y, scaler: 1/(1+torch.exp(-scaler*y))\n",
    "        \n",
    "        # our function is centered @ 0.5 by default, but not at extremes (then it's centered @ 0)\n",
    "        self.centers      = [self.true_centers[0]] + \\\n",
    "                            list(0.5 + np.array(self.true_centers[1:-1])) + \\\n",
    "                            [self.true_centers[-1]]\n",
    "        self.n_centers    = len(self.centers)\n",
    "\n",
    "    def forward(self, x, reduce=\"mean\"):\n",
    "        r\"\"\" reduces dim=0 as a set of bins. designed for 2d outs. \"\"\"\n",
    "        x_shape = x.shape\n",
    "        out     = torch.zeros(x_shape[0], self.n_centers, *x.shape[1:], device=device)\n",
    "        for i, center in enumerate(self.centers):\n",
    "            # add the 2 extremes to differentiate btween them (+/- and right/left is inversed)\n",
    "            if i == 0:\n",
    "                out[:, i] = self.make_right_extreme(x, center, self.scales[i])\n",
    "            elif i == self.n_centers-1:\n",
    "                out[:, i] = self.make_left_extreme(x, center, self.scales[i])\n",
    "            else:\n",
    "                out[:, i] = self.make_bin(x, center, self.scales[i], self.max_scaler[i])\n",
    "            \n",
    "        # summarizes a set of (n_examples, n_feats) into a single (n_centers, n_feats)\n",
    "        if reduce == \"sum\" or reduce == \"add\":\n",
    "            return out.sum(dim=0)\n",
    "        elif reduce:\n",
    "            return out.mean(dim=0)\n",
    "        return out\n",
    "\n",
    "    def make_bin(self, x, center, scale, max_scaler):\n",
    "        return self.func(x+center, scale, max_scaler)\n",
    "    \n",
    "    def make_left_extreme(self, x, center, scale):\n",
    "        return (1-self.sigmoid_x(x+center, scale))\n",
    "    \n",
    "    def make_right_extreme(self, x, center, scale):\n",
    "        return self.sigmoid_x(x+center, scale)\n",
    "        \n",
    "    def func(self, x, scale, max_scaler):\n",
    "        # perform minmax scaling so max is 1 and min (is already) 0\n",
    "        return (self.sigmoid_x(x, scale)-self.sigmoid_x(x-1, scale))/max_scaler\n",
    "\n",
    "    def __repr__(self):\n",
    "        return \"Simple differentiable histogram layer:\" + \\\n",
    "               str({\"centers\"    : self.true_centers,\n",
    "                    \"exp_scales\" : self.scales, \n",
    "                    \"max_scaler\" : self.max_scaler})"
   ]
  },
  {
   "cell_type": "code",
   "execution_count": 25,
   "metadata": {},
   "outputs": [],
   "source": [
    "class Readout_Hist(nn.Module):\n",
    "    def __init__(self, centers, reduce=None):\n",
    "        super(Readout_Hist, self).__init__()\n",
    "        # save centers\n",
    "        self.true_centers  = centers\n",
    "        self.n_centers     = len(centers)\n",
    "        self.diff_hist     = Diff_Hist(centers=centers)\n",
    "        # reduces nodes -> graph by gather/scatter\n",
    "        if reduce is None:\n",
    "            reduce = partial(scatter, reduce=\"mean\")\n",
    "        self.reduce_scheme = reduce\n",
    "\n",
    "    def forward(self, x, batch=None, bsize=None, dim=0):\n",
    "        r\"\"\" reduces dim=0 by gather/scatter each node. designed for 2d outs. \"\"\"\n",
    "        hist_aux = self.diff_hist(x, reduce=None)\n",
    "        hist_aux = hist_aux.reshape(hist_aux.shape[0], -1)\n",
    "        return self.reduce_scheme(hist_aux, batch, dim_size=bsize, dim=dim)\n",
    "\n",
    "    def __repr__(self):\n",
    "        return \"Readout by histogram:\" + str({\"centers\": self.true_centers})\n",
    "    \n",
    "    \n",
    "#    \"\"\" don't reduce if used for readout-scatter. \"\"\"\n",
    "#        if reduce is None:\n",
    "#            return self.func(x+center)"
   ]
  },
  {
   "cell_type": "code",
   "execution_count": 26,
   "metadata": {},
   "outputs": [],
   "source": [
    "# center:scale (center of the hist bin and exponential scale of the sigmoidal functions)\n",
    "# the 2 centers at the extremes have an open end\n",
    "#\n",
    "# recommendations: (delta=2, scale=2) (delta=3.5, scale=1) (delta=5, scale=0.5)\n",
    "centers = {-10: 0.5, -7: 0.3, -5: 0.5, 0: 0.5, 5: 0.5, 7: 0.3, 10: 0.5}\n",
    "hister  = Diff_Hist(centers=centers)#[-8,-6,-4,-2,0,2,4,6,8])"
   ]
  },
  {
   "cell_type": "code",
   "execution_count": 28,
   "metadata": {},
   "outputs": [
    {
     "data": {
      "text/plain": [
       "(tensor([[0.0074, 0.0077, 0.0072, 0.0067, 0.0079],\n",
       "         [0.3895, 0.4026, 0.3943, 0.3777, 0.4062],\n",
       "         [0.2932, 0.3091, 0.2958, 0.2751, 0.3144],\n",
       "         [0.9411, 0.9501, 0.9611, 0.9542, 0.9476],\n",
       "         [0.3147, 0.2922, 0.2977, 0.3232, 0.2887],\n",
       "         [0.4057, 0.3900, 0.3955, 0.4138, 0.3872],\n",
       "         [0.0079, 0.0072, 0.0073, 0.0081, 0.0071]]),\n",
       " Simple differentiable histogram layer:{'centers': [-10, -7, -5, 0, 5, 7, 10], 'exp_scales': [0.5, 0.3, 0.5, 0.5, 0.5, 0.3, 0.5], 'max_scaler': [tensor(0.1244), tensor(0.0749), tensor(0.1244), tensor(0.1244), tensor(0.1244), tensor(0.0749), tensor(0.1244)]})"
      ]
     },
     "execution_count": 28,
     "metadata": {},
     "output_type": "execute_result"
    },
    {
     "data": {
      "image/png": "[encoded data removed]",
      "text/plain": [
       "<Figure size 432x288 with 1 Axes>"
      ]
     },
     "metadata": {
      "needs_background": "light"
     },
     "output_type": "display_data"
    }
   ],
   "source": [
    "inputs = torch.randn(87,5)\n",
    "# plot and print()\n",
    "histed = hister(inputs)\n",
    "plt.plot(hister.true_centers, histed[:, 0].flatten(), \"o-\")\n",
    "histed, hister"
   ]
  },
  {
   "cell_type": "code",
   "execution_count": 67,
   "metadata": {},
   "outputs": [
    {
     "name": "stdout",
     "output_type": "stream",
     "text": [
      "14.5 ms ± 316 µs per loop (mean ± std. dev. of 7 runs, 100 loops each)\n"
     ]
    }
   ],
   "source": [
    "%%timeit\n",
    "# timing - only the histogram, not the readout\n",
    "for i in range(10):\n",
    "    histed = hister(inputs)"
   ]
  },
  {
   "cell_type": "code",
   "execution_count": null,
   "metadata": {},
   "outputs": [],
   "source": []
  }
 ],
 "metadata": {
  "kernelspec": {
   "display_name": "assistant",
   "language": "python",
   "name": "assistant"
  },
  "language_info": {
   "codemirror_mode": {
    "name": "ipython",
    "version": 3
   },
   "file_extension": ".py",
   "mimetype": "text/x-python",
   "name": "python",
   "nbconvert_exporter": "python",
   "pygments_lexer": "ipython3",
   "version": "3.7.3"
  }
 },
 "nbformat": 4,
 "nbformat_minor": 4
}
