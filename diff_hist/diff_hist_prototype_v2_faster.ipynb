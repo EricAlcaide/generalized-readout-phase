{
 "cells": [
  {
   "cell_type": "code",
   "execution_count": 4,
   "metadata": {},
   "outputs": [],
   "source": [
    "\"\"\" Main improvements:\n",
    "    * include 2 bins at extremes to differentiate between them\n",
    "        (all 0s become identical ay extremes and no gradient)\n",
    "    * use torch scatter and less ops in readout.\n",
    "\"\"\";"
   ]
  },
  {
   "cell_type": "code",
   "execution_count": 61,
   "metadata": {},
   "outputs": [],
   "source": [
    "import torch\n",
    "import torch.nn as nn\n",
    "from torch_scatter import scatter\n",
    "import numpy as np\n",
    "import matplotlib.pyplot as plt\n",
    "# partial scatter func\n",
    "from functools import partial"
   ]
  },
  {
   "cell_type": "code",
   "execution_count": 6,
   "metadata": {},
   "outputs": [],
   "source": [
    "device=\"cpu\""
   ]
  },
  {
   "cell_type": "code",
   "execution_count": 57,
   "metadata": {},
   "outputs": [],
   "source": [
    "class Diff_Hist(nn.Module):\n",
    "    def __init__(self, centers=[-5, -2.5, 0, 2.5, 5], scale=2):\n",
    "        super(Diff_Hist, self).__init__()\n",
    "        \"\"\" centers: center of the bins used. \n",
    "            scale  : exponential scale for sigmoid. the higher,\n",
    "                the lower the amplitud of the bins.\n",
    "        \"\"\"\n",
    "        # save params\n",
    "        self.scale        = scale\n",
    "        self.true_centers = centers\n",
    "        \n",
    "        # augmenting sigmoid so higher gradient and localized feats\n",
    "        self.max_scaler   = 1\n",
    "        self.sigmoid_x    = lambda y: 1/(1+torch.exp(-self.scale*y))\n",
    "        self.max_scaler   = torch.max(self.func(torch.arange(start=-1, end=1, step=1e-3)))\n",
    "        self.sigmoid_x    = lambda y: 1/(1+torch.exp(-self.scale*y))\n",
    "        \n",
    "        # our function is centered @ 0.5 by default, but not at extremes (then it's centered @ 0)\n",
    "        self.centers      = [centers[0]]+list(0.5 + np.array(centers[1:-1]))+[centers[-1]]\n",
    "        self.n_centers    = len(self.centers)\n",
    "\n",
    "    def forward(self, x, reduce=\"mean\"):\n",
    "        r\"\"\" reduces dim=0 as a set of bins. designed for 2d outs. \"\"\"\n",
    "        x_shape = x.shape\n",
    "        out     = torch.zeros(x_shape[0], self.n_centers, *x.shape[1:], device=device)\n",
    "        for i, center in enumerate(self.centers):\n",
    "            # add the 2 extremes to differentiate btween them (+/- and right/left is inversed)\n",
    "            if i == 0:\n",
    "                out[:, i] = self.make_right_extreme(x, center)\n",
    "            elif i == self.n_centers-1:\n",
    "                out[:, i] = self.make_left_extreme(x, center)\n",
    "            else:\n",
    "                out[:, i] = self.make_bin(x, center)\n",
    "            \n",
    "        # summarizes a set of (n_examples, n_feats) into a single (n_centers, n_feats)\n",
    "        if reduce == \"sum\" or reduce == \"add\":\n",
    "            return out.sum(dim=0)\n",
    "        elif reduce:\n",
    "            return out.mean(dim=0)\n",
    "        return out\n",
    "\n",
    "    def make_bin(self, x, center):\n",
    "        return self.func(x+center)\n",
    "    \n",
    "    def make_left_extreme(self, x, center):\n",
    "        return (1-self.sigmoid_x(x+center))\n",
    "    \n",
    "    def make_right_extreme(self, x, center):\n",
    "        return self.sigmoid_x(x+center)\n",
    "        \n",
    "    def func(self, x):\n",
    "        # perform minmax scaling so max is 1 and min (is already) 0\n",
    "        return (self.sigmoid_x(x)-self.sigmoid_x(x-1))/self.max_scaler\n",
    "\n",
    "    def __repr__(self):\n",
    "        return \"Simple differentiable histogram layer:\" + \\\n",
    "               str({\"centers\"   : self.true_centers,\n",
    "                    \"exp_scale\" : self.scale})"
   ]
  },
  {
   "cell_type": "code",
   "execution_count": 62,
   "metadata": {},
   "outputs": [],
   "source": [
    "class Readout_Hist(nn.Module):\n",
    "    def __init__(self, centers, reduce=None):\n",
    "        super(Readout_Hist, self).__init__()\n",
    "        # save centers\n",
    "        self.true_centers  = centers\n",
    "        self.n_centers     = len(centers)\n",
    "        self.diff_hist     = Diff_Hist(centers=centers)\n",
    "        # reduces nodes -> graph by gather/scatter\n",
    "        if reduce is None:\n",
    "            reduce = partial(scatter, reduce=\"mean\")\n",
    "        self.reduce_scheme = reduce\n",
    "\n",
    "    def forward(self, x, batch=None, bsize=None, dim=0):\n",
    "        r\"\"\" reduces dim=0 by gather/scatter each node. designed for 2d outs. \"\"\"\n",
    "        hist_aux = self.diff_hist(x, reduce=None)\n",
    "        hist_aux = hist_aux.reshape(hist_aux.shape[0], -1)\n",
    "        return self.reduce_scheme(hist_aux, batch, dim_size=bsize, dim=dim)\n",
    "\n",
    "    def __repr__(self):\n",
    "        return \"Readout by histogram:\" + str({\"centers\": self.true_centers})\n",
    "    \n",
    "    \n",
    "#    \"\"\" don't reduce if used for readout-scatter. \"\"\"\n",
    "#        if reduce is None:\n",
    "#            return self.func(x+center)"
   ]
  },
  {
   "cell_type": "code",
   "execution_count": 63,
   "metadata": {},
   "outputs": [],
   "source": [
    "offset, n = 2, 5\n",
    "centers = list(range(-offset*n, offset*n+1))\n",
    "hister  = Diff_Hist(centers=centers)#[-8,-6,-4,-2,0,2,4,6,8])"
   ]
  },
  {
   "cell_type": "code",
   "execution_count": 64,
   "metadata": {},
   "outputs": [
    {
     "data": {
      "text/plain": [
       "(tensor([[8.6208e-09, 1.7260e-08, 1.1532e-08, 1.9038e-08, 9.7624e-09],\n",
       "         [3.2399e-07, 6.4865e-07, 4.3338e-07, 7.1547e-07, 3.6689e-07],\n",
       "         [2.3939e-06, 4.7927e-06, 3.2022e-06, 5.2865e-06, 2.7109e-06],\n",
       "         [1.7688e-05, 3.5400e-05, 2.3660e-05, 3.9052e-05, 2.0029e-05],\n",
       "         [1.3067e-04, 2.6087e-04, 1.7474e-04, 2.8801e-04, 1.4788e-04],\n",
       "         [9.6385e-04, 1.8906e-03, 1.2863e-03, 2.0987e-03, 1.0866e-03],\n",
       "         [7.0319e-03, 1.2372e-02, 9.2531e-03, 1.4126e-02, 7.7200e-03],\n",
       "         [4.7594e-02, 5.9043e-02, 5.7965e-02, 6.8638e-02, 4.6192e-02],\n",
       "         [2.2405e-01, 1.9950e-01, 2.2894e-01, 2.1409e-01, 1.8351e-01],\n",
       "         [5.0270e-01, 4.5760e-01, 4.7787e-01, 4.5841e-01, 4.4547e-01],\n",
       "         [5.9974e-01, 6.5694e-01, 6.3591e-01, 6.1905e-01, 6.1867e-01],\n",
       "         [4.6406e-01, 5.0509e-01, 4.7249e-01, 4.9300e-01, 4.9818e-01],\n",
       "         [2.2445e-01, 2.0560e-01, 2.0079e-01, 2.2746e-01, 2.5800e-01],\n",
       "         [7.2390e-02, 5.4527e-02, 6.2078e-02, 5.6385e-02, 8.2641e-02],\n",
       "         [1.7464e-02, 9.5223e-03, 1.4482e-02, 8.9328e-03, 1.8870e-02],\n",
       "         [2.8908e-03, 1.3522e-03, 2.3155e-03, 1.2397e-03, 2.9714e-03],\n",
       "         [4.0524e-04, 1.8427e-04, 3.2212e-04, 1.6835e-04, 4.1210e-04],\n",
       "         [5.5105e-05, 2.4951e-05, 4.3759e-05, 2.2816e-05, 5.5969e-05],\n",
       "         [7.4809e-06, 3.4010e-06, 5.9332e-06, 3.0926e-06, 7.5995e-06],\n",
       "         [1.0170e-06, 4.6552e-07, 8.0354e-07, 4.1215e-07, 1.0052e-06],\n",
       "         [2.0553e-08, 8.2213e-09, 1.3702e-08, 5.4809e-09, 1.9183e-08]]),\n",
       " Simple differentiable histogram layer:{'centers': [-10, -9, -8, -7, -6, -5, -4, -3, -2, -1, 0, 1, 2, 3, 4, 5, 6, 7, 8, 9, 10], 'exp_scale': 2})"
      ]
     },
     "execution_count": 64,
     "metadata": {},
     "output_type": "execute_result"
    },
    {
     "data": {
      "image/png": "[encoded data removed]",
      "text/plain": [
       "<Figure size 432x288 with 1 Axes>"
      ]
     },
     "metadata": {
      "needs_background": "light"
     },
     "output_type": "display_data"
    }
   ],
   "source": [
    "inputs = torch.randn(87,5)\n",
    "# plot and print()\n",
    "histed = hister(inputs)\n",
    "plt.plot(histed[:, 0].flatten(), \"o-\")\n",
    "histed, hister"
   ]
  },
  {
   "cell_type": "code",
   "execution_count": 67,
   "metadata": {},
   "outputs": [
    {
     "name": "stdout",
     "output_type": "stream",
     "text": [
      "14.5 ms ± 316 µs per loop (mean ± std. dev. of 7 runs, 100 loops each)\n"
     ]
    }
   ],
   "source": [
    "%%timeit\n",
    "# timing - only the histogram, not the readout\n",
    "for i in range(10):\n",
    "    histed = hister(inputs)"
   ]
  },
  {
   "cell_type": "code",
   "execution_count": null,
   "metadata": {},
   "outputs": [],
   "source": []
  }
 ],
 "metadata": {
  "kernelspec": {
   "display_name": "assistant",
   "language": "python",
   "name": "assistant"
  },
  "language_info": {
   "codemirror_mode": {
    "name": "ipython",
    "version": 3
   },
   "file_extension": ".py",
   "mimetype": "text/x-python",
   "name": "python",
   "nbconvert_exporter": "python",
   "pygments_lexer": "ipython3",
   "version": "3.7.3"
  }
 },
 "nbformat": 4,
 "nbformat_minor": 4
}
