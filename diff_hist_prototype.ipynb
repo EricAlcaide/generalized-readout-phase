{
 "cells": [
  {
   "cell_type": "code",
   "execution_count": 3,
   "metadata": {},
   "outputs": [],
   "source": [
    "import torch\n",
    "import torch.nn as nn\n",
    "import numpy as np\n",
    "import matplotlib.pyplot as plt"
   ]
  },
  {
   "cell_type": "code",
   "execution_count": 24,
   "metadata": {},
   "outputs": [],
   "source": [
    "class Diff_Hist(nn.Module):\n",
    "    def __init__(self, centers=[-5, -2.5, 0, 2.5, 5], scale=2):\n",
    "        super(Diff_Hist, self).__init__()\n",
    "        \"\"\" centers: center of the bins used. \n",
    "            scale  : exponential scale for sigmoid. the higher,\n",
    "                the lower the amplitud of the bins.\n",
    "        \"\"\"\n",
    "        # save params\n",
    "        self.scale        = scale\n",
    "        self.true_centers = centers\n",
    "        self.max_scaler   = 1\n",
    "        self.max_scaler   = torch.max(self.func(torch.arange(start=-1, end=1, step=1e-3)))\n",
    "        # our function is centered @ 0.5 by default\n",
    "        self.centers      = 0.5 + np.array(self.true_centers)\n",
    "\n",
    "    def forward(self, x, batch=None, bsize=None):\n",
    "        r\"\"\" reduces dim=0 as a set of bins. designed for 2d outs. \"\"\"\n",
    "        out = torch.zeros(len(self.centers), *x.shape[1:])\n",
    "        for i, center in enumerate(self.centers):\n",
    "            out[i]  = self.make_bin(x, center)\n",
    "        return out / x.shape[0]\n",
    "\n",
    "    def make_bin(self, x, center):\n",
    "        return self.func(x+center).sum(dim=0, keepdim=True)\n",
    "        \n",
    "    def func(self, x):\n",
    "        # augmenting sigmoid so higher gradient and localized feats\n",
    "        sigmoid_x = lambda y: 1/(1+torch.exp(-self.scale*y))\n",
    "        # perfrom minmax scaling so max is 1 and min (is already) 0\n",
    "        return (sigmoid_x(x)-sigmoid_x(x-1))/self.max_scaler\n",
    "\n",
    "    def __repr__(self):\n",
    "        return \"Simple differentiable histogram layer:\" + \\\n",
    "               str({\"centers\"   : self.true_centers,\n",
    "                    \"exp_scale\" : self.scale})"
   ]
  },
  {
   "cell_type": "code",
   "execution_count": 25,
   "metadata": {},
   "outputs": [],
   "source": [
    "class Readout_Hist(nn.Module):\n",
    "    def __init__(self, centers):\n",
    "        super(Diff_Hist, self).__init__()\n",
    "        # save centers\n",
    "        self.true_centers = centers\n",
    "        self.diff_hist    = Diff_Hist(centers=centers)\n",
    "\n",
    "    def forward(self, x, batch=None, bsize=None, dim=0):\n",
    "        r\"\"\" reduces dim=0 as a set of bins. designed for 2d outs. \"\"\"\n",
    "        bsize = bsize if bsize is not None else batch.shape[0]\n",
    "        out   = torch.empty(bsize, len(self.centers), *x.shape[1:])\n",
    "        # for all unique nodes\n",
    "        for n in range(bsize):\n",
    "            # create a multi-center hist for their feats\n",
    "            out[n]  = self.diff_hist(x[batch==n])\n",
    "        return out\n",
    "\n",
    "    def __repr__(self):\n",
    "        return \"Readout by histogram:\" + str({\"centers\": self.true_centers})"
   ]
  },
  {
   "cell_type": "code",
   "execution_count": 26,
   "metadata": {},
   "outputs": [],
   "source": [
    "offset, n = 2, 5\n",
    "centers = list(range(-offset*n, offset*n+1))\n",
    "hister  = Diff_Hist(centers=centers)#[-8,-6,-4,-2,0,2,4,6,8])"
   ]
  },
  {
   "cell_type": "code",
   "execution_count": 27,
   "metadata": {},
   "outputs": [
    {
     "data": {
      "text/plain": [
       "(tensor([[7.9884e-08, 1.9495e-07, 7.1438e-08, 8.0497e-08, 1.0139e-07],\n",
       "         [5.9026e-07, 1.4404e-06, 5.2786e-07, 5.9479e-07, 7.4921e-07],\n",
       "         [4.3613e-06, 1.0642e-05, 3.9003e-06, 4.3949e-06, 5.5358e-06],\n",
       "         [3.2216e-05, 7.8546e-05, 2.8817e-05, 3.2471e-05, 4.0896e-05],\n",
       "         [2.3749e-04, 5.7567e-04, 2.1278e-04, 2.3974e-04, 3.0172e-04],\n",
       "         [1.7255e-03, 4.0204e-03, 1.5641e-03, 1.7615e-03, 2.2047e-03],\n",
       "         [1.1454e-02, 2.2355e-02, 1.1141e-02, 1.2501e-02, 1.5128e-02],\n",
       "         [5.6847e-02, 8.8661e-02, 6.6523e-02, 7.2724e-02, 8.0136e-02],\n",
       "         [2.0853e-01, 2.7156e-01, 2.4127e-01, 2.4236e-01, 2.5959e-01],\n",
       "         [5.1186e-01, 5.1247e-01, 4.8791e-01, 4.8190e-01, 5.0347e-01],\n",
       "         [6.6192e-01, 5.6227e-01, 6.1704e-01, 6.2103e-01, 6.1272e-01],\n",
       "         [4.6052e-01, 3.9838e-01, 4.6362e-01, 4.7752e-01, 4.3775e-01],\n",
       "         [1.9584e-01, 2.0867e-01, 2.0612e-01, 1.9897e-01, 1.9157e-01],\n",
       "         [4.6624e-02, 7.3399e-02, 5.6985e-02, 4.6457e-02, 5.0776e-02],\n",
       "         [7.2035e-03, 1.8099e-02, 9.9027e-03, 7.2819e-03, 8.8257e-03],\n",
       "         [9.9473e-04, 2.9183e-03, 1.4027e-03, 1.0092e-03, 1.2544e-03],\n",
       "         [1.3499e-04, 4.0629e-04, 1.9106e-04, 1.3703e-04, 1.7096e-04],\n",
       "         [1.8289e-05, 5.5206e-05, 2.5903e-05, 1.8553e-05, 2.3163e-05],\n",
       "         [2.4877e-06, 7.4869e-06, 3.5107e-06, 2.5233e-06, 3.1519e-06],\n",
       "         [3.4099e-07, 9.9034e-07, 4.5662e-07, 3.4395e-07, 4.2104e-07],\n",
       "         [3.5581e-08, 1.4232e-07, 6.2267e-08, 3.8546e-08, 5.0407e-08]]),\n",
       " Simple differentiable histogram layer:{'centers': [-10, -9, -8, -7, -6, -5, -4, -3, -2, -1, 0, 1, 2, 3, 4, 5, 6, 7, 8, 9, 10], 'exp_scale': 2})"
      ]
     },
     "execution_count": 27,
     "metadata": {},
     "output_type": "execute_result"
    },
    {
     "data": {
      "image/png": "[encoded data removed]",
      "text/plain": [
       "<Figure size 432x288 with 1 Axes>"
      ]
     },
     "metadata": {
      "needs_background": "light"
     },
     "output_type": "display_data"
    }
   ],
   "source": [
    "inputs = torch.randn(87,5)\n",
    "# plot and print()\n",
    "plt.plot(hister(inputs)[:, 0].flatten(), \"o-\")\n",
    "hister(inputs), hister\n"
   ]
  },
  {
   "cell_type": "code",
   "execution_count": null,
   "metadata": {},
   "outputs": [],
   "source": []
  }
 ],
 "metadata": {
  "kernelspec": {
   "display_name": "assistant",
   "language": "python",
   "name": "assistant"
  },
  "language_info": {
   "codemirror_mode": {
    "name": "ipython",
    "version": 3
   },
   "file_extension": ".py",
   "mimetype": "text/x-python",
   "name": "python",
   "nbconvert_exporter": "python",
   "pygments_lexer": "ipython3",
   "version": "3.7.3"
  }
 },
 "nbformat": 4,
 "nbformat_minor": 4
}
