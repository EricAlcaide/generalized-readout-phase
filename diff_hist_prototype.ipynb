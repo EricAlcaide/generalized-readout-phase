{
 "cells": [
  {
   "cell_type": "code",
   "execution_count": 3,
   "metadata": {},
   "outputs": [],
   "source": [
    "import torch\n",
    "import torch.nn as nn\n",
    "import numpy as np\n",
    "import matplotlib.pyplot as plt"
   ]
  },
  {
   "cell_type": "code",
   "execution_count": 35,
   "metadata": {},
   "outputs": [],
   "source": [
    "class Diff_Hist(nn.Module):\n",
    "    def __init__(self, centers=[-5, -2.5, 0, 2.5, 5]):\n",
    "        super(Diff_Hist, self).__init__()\n",
    "        # save centers\n",
    "        self.true_centers = centers\n",
    "        # our function is centered @ 0.5 by default\n",
    "        self.centers      = 0.5 + np.array(self.true_centers)\n",
    "\n",
    "    def forward(self, x, batch=None, bsize=None):\n",
    "        r\"\"\" reduces dim=0 as a set of bins. designed for 2d outs. \"\"\"\n",
    "        out = torch.empty(len(self.centers), *x.shape[1:])\n",
    "        for i, center in enumerate(self.centers):\n",
    "            out[i]  = self.make_bin(x, center)\n",
    "        return out / x.shape[0]\n",
    "\n",
    "    def make_bin(self, x, center):\n",
    "        return self.func(x+center).sum(dim=0, keepdim=True)\n",
    "        \n",
    "    def func(self, x):\n",
    "        sigmoid_x = lambda y: 1/(1+torch.exp(-y))\n",
    "        return (sigmoid_x(x)-sigmoid_x(x-1))/0.245\n",
    "\n",
    "    def __repr__(self):\n",
    "        return \"Simple differentiable histogram layer:\" + \\\n",
    "               str({\"centers\": self.true_centers})"
   ]
  },
  {
   "cell_type": "code",
   "execution_count": 36,
   "metadata": {},
   "outputs": [],
   "source": [
    "hister = Diff_Hist(centers=[-5, -2.5, 0, 2.5, 5])"
   ]
  },
  {
   "cell_type": "code",
   "execution_count": 37,
   "metadata": {},
   "outputs": [
    {
     "data": {
      "text/plain": [
       "(tensor([[0.0282, 0.0282],\n",
       "         [0.2930, 0.2930],\n",
       "         [0.9997, 0.9997],\n",
       "         [0.2930, 0.2930],\n",
       "         [0.0282, 0.0282]]),\n",
       " Simple differentiable histogram layer:{'centers': [-5, -2.5, 0, 2.5, 5]})"
      ]
     },
     "execution_count": 37,
     "metadata": {},
     "output_type": "execute_result"
    },
    {
     "data": {
      "image/png": "[encoded data removed]",
      "text/plain": [
       "<Figure size 432x288 with 1 Axes>"
      ]
     },
     "metadata": {
      "needs_background": "light"
     },
     "output_type": "display_data"
    }
   ],
   "source": [
    "inputs = torch.zeros(87,2)\n",
    "# plot and print()\n",
    "plt.plot(hister(inputs)[:, 0].flatten(), \"o-\")\n",
    "hister(inputs), hister\n"
   ]
  },
  {
   "cell_type": "code",
   "execution_count": null,
   "metadata": {},
   "outputs": [],
   "source": []
  }
 ],
 "metadata": {
  "kernelspec": {
   "display_name": "assistant",
   "language": "python",
   "name": "assistant"
  },
  "language_info": {
   "codemirror_mode": {
    "name": "ipython",
    "version": 3
   },
   "file_extension": ".py",
   "mimetype": "text/x-python",
   "name": "python",
   "nbconvert_exporter": "python",
   "pygments_lexer": "ipython3",
   "version": "3.7.3"
  }
 },
 "nbformat": 4,
 "nbformat_minor": 4
}
